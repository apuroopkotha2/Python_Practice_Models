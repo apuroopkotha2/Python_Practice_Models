{
 "cells": [
  {
   "cell_type": "markdown",
   "id": "2bcba6c0",
   "metadata": {},
   "source": [
    "## Basic Questions and understanding of the python concepts"
   ]
  },
  {
   "cell_type": "markdown",
   "id": "bccc319a",
   "metadata": {},
   "source": [
    "### 1. "
   ]
  },
  {
   "cell_type": "code",
   "execution_count": null,
   "id": "b6a4f887",
   "metadata": {},
   "outputs": [],
   "source": [
    "# Given a string, find the length of the longest substring\n",
    "# without repeating characters.\n",
    "\n",
    "# Examples:\n",
    "# Given \"abcabcbb\", the answer is \"abc\", which the length is 3.\n",
    "# Given \"bbbbb\", the answer is \"b\", with the length of 1.\n",
    "# Given \"pwwkew\", the answer is \"wke\", with the length of 3.\n",
    "# ---------------------------------------------------------------\n",
    "# Algorithm:- \n",
    "# In summary : Form all posible sub_strings from original string, then return length of longest sub_string\n",
    "# - start from 1st character, form as long as posible sub string\n",
    "#             - Add first character to sub string\n",
    "#             - Add second character to sub string if second character not exist in sub string\n",
    "#             - Repeat until got a character which already exist inside sub string or \n",
    "\n",
    "# - start from 2nd character, form as long as posible sub string\n",
    "#             - Add first character to sub string\n",
    "#             - Add second character to sub string if second character not exist in sub string\n",
    "#             - Repeat until got a character which already exist inside sub string\n",
    "\n",
    "# - start from final character, form as long as posible sub string\n",
    "#             - Add first character to sub string\n",
    "#             - Add second character to sub string if second character not exist in sub string\n",
    "#             - Repeat until got a character which already exist inside sub string"
   ]
  },
  {
   "cell_type": "code",
   "execution_count": 1,
   "id": "312d20f9",
   "metadata": {},
   "outputs": [
    {
     "name": "stdout",
     "output_type": "stream",
     "text": [
      "['a', 'b', 'c']\n",
      "['b', 'c']\n",
      "['c', 'b']\n",
      "['b']\n",
      "['b']\n"
     ]
    },
    {
     "data": {
      "text/plain": [
       "3"
      ]
     },
     "execution_count": 1,
     "metadata": {},
     "output_type": "execute_result"
    }
   ],
   "source": [
    "str = \"abcbb\"\n",
    "\n",
    "def longest_non_repeat(str):\n",
    "    \n",
    "    # init start position and max length     \n",
    "    i=0\n",
    "    max_length = 1\n",
    "\n",
    "    for i,c in enumerate(str):\n",
    "\n",
    "        # init counter and sub string value         \n",
    "        start_at = i\n",
    "        sub_str=[]\n",
    "\n",
    "        # continue increase sub string if did not repeat character         \n",
    "        while (start_at < len(str)) and (str[start_at] not in sub_str):\n",
    "            sub_str.append(str[start_at])\n",
    "            start_at = start_at + 1\n",
    "\n",
    "        # update the max length   \n",
    "        if len(sub_str) > max_length:\n",
    "            max_length = len(sub_str)\n",
    "\n",
    "        print(sub_str)\n",
    "        \n",
    "    return max_length\n",
    "\n",
    "longest_non_repeat(str)"
   ]
  },
  {
   "cell_type": "code",
   "execution_count": 2,
   "id": "646b4810",
   "metadata": {},
   "outputs": [
    {
     "name": "stdout",
     "output_type": "stream",
     "text": [
      "['p', 'e']\n",
      "['e']\n",
      "['e', 'k', 'a', 'p']\n",
      "['k', 'a', 'p', 'e']\n",
      "['a', 'p', 'e']\n",
      "['p', 'e']\n",
      "['e']\n",
      "['e', 'k', 'a', 'p']\n",
      "['k', 'a', 'p', 'e']\n",
      "['a', 'p', 'e']\n",
      "['p', 'e']\n",
      "['e']\n",
      "['e', 'k', 'a']\n",
      "['k', 'a']\n",
      "['a']\n"
     ]
    },
    {
     "data": {
      "text/plain": [
       "4"
      ]
     },
     "execution_count": 2,
     "metadata": {},
     "output_type": "execute_result"
    }
   ],
   "source": [
    "str = \"peekapeekapeeka\"\n",
    "\n",
    "def longest_non_repeat(str):\n",
    "    \n",
    "    # init start position and max length     \n",
    "    i=0\n",
    "    max_length = 1\n",
    "\n",
    "    for i,c in enumerate(str):\n",
    "\n",
    "        # init counter and sub string value         \n",
    "        start_at = i\n",
    "        sub_str=[]\n",
    "\n",
    "        # continue increase sub string if did not repeat character         \n",
    "        while (start_at < len(str)) and (str[start_at] not in sub_str):\n",
    "            sub_str.append(str[start_at])\n",
    "            start_at = start_at + 1\n",
    "\n",
    "        # update the max length   \n",
    "        if len(sub_str) > max_length:\n",
    "            max_length = len(sub_str)\n",
    "\n",
    "        print(sub_str)\n",
    "        \n",
    "    return max_length\n",
    "\n",
    "longest_non_repeat(str)"
   ]
  },
  {
   "cell_type": "markdown",
   "id": "5524f919",
   "metadata": {},
   "source": [
    "### 2. "
   ]
  },
  {
   "cell_type": "code",
   "execution_count": null,
   "id": "319d696e",
   "metadata": {},
   "outputs": [],
   "source": [
    "# Consider an array of non-negative integers.\n",
    "# A second array is formed by shuffling the elements of the first array and deleting a random element. \n",
    "# Given these two arrays, find which element is missing in the second array.\n",
    "# Here is an example input, the first array is shuffled and the number 5 is removed to construct the second array.\n",
    "# Input:\n",
    "# finder([1,2,3,4,5,6,7],[3,7,2,1,4,6])\n",
    "# Output:\n",
    "# 5 is the missing number"
   ]
  },
  {
   "cell_type": "code",
   "execution_count": 5,
   "id": "e148eb0f",
   "metadata": {},
   "outputs": [
    {
     "name": "stdout",
     "output_type": "stream",
     "text": [
      "5\n"
     ]
    }
   ],
   "source": [
    "first_array = [1,2,3,4,5,6,7]\n",
    "second_array = [3,7,2,1,4,6]\n",
    "\n",
    "def finder(first_array, second_array):\n",
    "    return(sum(first_array) - sum(second_array))\n",
    "\n",
    "missing_number = finder(first_array, second_array)\n",
    "\n",
    "print(missing_number)   "
   ]
  },
  {
   "cell_type": "code",
   "execution_count": 7,
   "id": "13eb3e27",
   "metadata": {},
   "outputs": [
    {
     "name": "stdout",
     "output_type": "stream",
     "text": [
      "23\n"
     ]
    }
   ],
   "source": [
    "first_array = [11,22,23,34,65,66,78]\n",
    "second_array = [34,65,11,22,66,78]\n",
    "\n",
    "def finder(first_array, second_array):\n",
    "    return(sum(first_array) - sum(second_array))\n",
    "\n",
    "missing_number = finder(first_array, second_array)\n",
    "\n",
    "print(missing_number)   "
   ]
  },
  {
   "cell_type": "markdown",
   "id": "755e4178",
   "metadata": {},
   "source": [
    "### 3."
   ]
  },
  {
   "cell_type": "code",
   "execution_count": null,
   "id": "c0e1b320",
   "metadata": {},
   "outputs": [],
   "source": [
    "# Rotate an array of n elements to the right by k steps.\n",
    "# For example, with n = 7 and k = 3,\n",
    "# the array [1,2,3,4,5,6,7] is rotated to [5,6,7,1,2,3,4]."
   ]
  },
  {
   "cell_type": "code",
   "execution_count": 9,
   "id": "6f041eb6",
   "metadata": {},
   "outputs": [
    {
     "name": "stdout",
     "output_type": "stream",
     "text": [
      "[5, 6, 7, 1, 2, 3, 4]\n"
     ]
    }
   ],
   "source": [
    "org = [1,2,3,4,5,6,7]\n",
    "result = org[:]\n",
    "steps = 3\n",
    "\n",
    "for idx,num in enumerate(org):\n",
    "    if idx+steps < len(org):\n",
    "        result[idx+steps] = org[idx]\n",
    "    else:\n",
    "        result[idx+steps-len(org)] = org[idx]\n",
    "        \n",
    "print(result)"
   ]
  },
  {
   "cell_type": "code",
   "execution_count": 10,
   "id": "ad0f07a6",
   "metadata": {},
   "outputs": [
    {
     "name": "stdout",
     "output_type": "stream",
     "text": [
      "Rotated Array: [5, 6, 7, 1, 2, 3, 4]\n"
     ]
    }
   ],
   "source": [
    "def rotate_array(nums, k):\n",
    "    # Calculate the effective rotation index\n",
    "    k = k % len(nums)\n",
    "    \n",
    "    # Reverse the entire array\n",
    "    reverse(nums, 0, len(nums) - 1)\n",
    "    \n",
    "    # Reverse the first k elements\n",
    "    reverse(nums, 0, k - 1)\n",
    "    \n",
    "    # Reverse the remaining elements\n",
    "    reverse(nums, k, len(nums) - 1)\n",
    "\n",
    "def reverse(nums, start, end):\n",
    "    # Helper function to reverse elements in the specified range\n",
    "    while start < end:\n",
    "        nums[start], nums[end] = nums[end], nums[start]\n",
    "        start += 1\n",
    "        end -= 1\n",
    "\n",
    "# Example usage\n",
    "arr = [1, 2, 3, 4, 5, 6, 7]\n",
    "rotate_steps = 3\n",
    "rotate_array(arr, rotate_steps)\n",
    "\n",
    "print(\"Rotated Array:\", arr)"
   ]
  },
  {
   "cell_type": "markdown",
   "id": "7e2d132b",
   "metadata": {},
   "source": [
    "### 4. "
   ]
  },
  {
   "cell_type": "code",
   "execution_count": null,
   "id": "0954b811",
   "metadata": {},
   "outputs": [],
   "source": [
    "# Given a sorted integer array without duplicates,\n",
    "# return the summary of its ranges.\n",
    "# For example, given [0,1,2,4,5,7], return [\"0->2\",\"4->5\",\"7\"]."
   ]
  },
  {
   "cell_type": "code",
   "execution_count": 11,
   "id": "c8c3e6fa",
   "metadata": {},
   "outputs": [
    {
     "name": "stdout",
     "output_type": "stream",
     "text": [
      "['0-->2']\n",
      "['0-->2', '4-->5']\n",
      "['0-->2', '4-->5', '7']\n",
      "['0-->2', '4-->5', '7']\n"
     ]
    }
   ],
   "source": [
    "input_array = [0,1,2,4,5,7]\n",
    "# input_array = [1,2,3,6,9,11,12,13,14,19,20]\n",
    "\n",
    "start=0\n",
    "result = []\n",
    "\n",
    "# i=0\n",
    "# while i <= len(input_array)-1:\n",
    "#     print(i, input_array[i])\n",
    "#     i = i+1\n",
    "\n",
    "\n",
    "while start < len(input_array):\n",
    "    \n",
    "    # initial end at start position     \n",
    "    end = start\n",
    "\n",
    "    # continue to move the end pointer if the gap is 1 with beside number\n",
    "    # only continue to move if index end+1 is inside array     \n",
    "    while end+1<len(input_array) and ((input_array[end+1] - input_array[end]) == 1):\n",
    "        end = end + 1\n",
    "\n",
    "    # add range to result after calculate     \n",
    "    if end!=start:\n",
    "        result.append(\"{0}-->{1}\".format(input_array[start], input_array[end]))\n",
    "        print(result)\n",
    "    else:\n",
    "        result.append(\"{0}\".format(input_array[start]))\n",
    "        print(result)\n",
    "        \n",
    "    # change to next range\n",
    "    start = end+1\n",
    "\n",
    "print(result)"
   ]
  },
  {
   "cell_type": "markdown",
   "id": "d31c7d7c",
   "metadata": {},
   "source": [
    "### 5. "
   ]
  }
 ],
 "metadata": {
  "kernelspec": {
   "display_name": "Python 3 (ipykernel)",
   "language": "python",
   "name": "python3"
  },
  "language_info": {
   "codemirror_mode": {
    "name": "ipython",
    "version": 3
   },
   "file_extension": ".py",
   "mimetype": "text/x-python",
   "name": "python",
   "nbconvert_exporter": "python",
   "pygments_lexer": "ipython3",
   "version": "3.9.12"
  }
 },
 "nbformat": 4,
 "nbformat_minor": 5
}
